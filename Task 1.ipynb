{
 "cells": [
  {
   "cell_type": "markdown",
   "id": "ca539b10-500a-4f43-b654-44f0856498ea",
   "metadata": {},
   "source": [
    "Name: Shreya Deshmukh\n",
    "Branch:Computer enginerring\n",
    "Task 1"
   ]
  },
  {
   "cell_type": "code",
   "execution_count": 2,
   "id": "4ed6e72e-a04c-4bf9-a3c2-7c61823a68ea",
   "metadata": {},
   "outputs": [
    {
     "name": "stdout",
     "output_type": "stream",
     "text": [
      "Reading full file:\n",
      "Hello, this is the first line.\n",
      "This is the second line.\n",
      "\n",
      "\n",
      "Reading file line by line:\n",
      "Hello, this is the first line.\n",
      "This is the second line.\n",
      "Appended line 1.\n",
      "Appended line 2.\n",
      "\n",
      "File exists: sample.txt\n",
      "File copied to copy_sample.txt\n",
      "File renamed to renamed_sample.txt\n",
      "File renamed_sample.txt deleted\n"
     ]
    }
   ],
   "source": [
    "#Muliple File Operations in Python\n",
    "import os\n",
    "import shutil\n",
    "\n",
    "with open(\"sample.txt\", \"w\") as f:\n",
    "    f.write(\"Hello, this is the first line.\\n\")\n",
    "    f.write(\"This is the second line.\\n\")\n",
    "\n",
    "with open(\"sample.txt\", \"r\") as f:\n",
    "    content = f.read()\n",
    "    print(\"Reading full file:\")\n",
    "    print(content)\n",
    "\n",
    "with open(\"sample.txt\", \"a\") as f:\n",
    "    f.write(\"Appended line 1.\\n\")\n",
    "    f.write(\"Appended line 2.\\n\")\n",
    "\n",
    "print(\"\\nReading file line by line:\")\n",
    "with open(\"sample.txt\", \"r\") as f:\n",
    "    for line in f:\n",
    "        print(line.strip())\n",
    "\n",
    "if os.path.exists(\"sample.txt\"):\n",
    "    print(\"\\nFile exists: sample.txt\")\n",
    "else:\n",
    "    print(\"\\nFile does not exist.\")\n",
    "\n",
    "shutil.copy(\"sample.txt\", \"copy_sample.txt\")\n",
    "print(\"File copied to copy_sample.txt\")\n",
    "\n",
    "os.rename(\"copy_sample.txt\", \"renamed_sample.txt\")\n",
    "print(\"File renamed to renamed_sample.txt\")\n",
    "\n",
    "os.remove(\"renamed_sample.txt\")\n",
    "print(\"File renamed_sample.txt deleted\")"
   ]
  },
  {
   "cell_type": "code",
   "execution_count": 3,
   "id": "d32d3ef4-c450-4c73-9bef-38ca50bcfdae",
   "metadata": {},
   "outputs": [
    {
     "name": "stdout",
     "output_type": "stream",
     "text": [
      "Bitwise AND (a & b): 0\n",
      "Bitwise OR (a | b): 14\n",
      "Bitwise XOR (a ^ b): 14\n",
      "Bitwise NOT (~a): -11\n",
      "Left Shift (a << 1): 20\n",
      "Right Shift (a >> 1): 5\n"
     ]
    }
   ],
   "source": [
    "# Bitwise Operators \n",
    "a = 10  \n",
    "b = 4   \n",
    "\n",
    "print(\"Bitwise AND (a & b):\", a & b)       \n",
    "print(\"Bitwise OR (a | b):\", a | b)       \n",
    "print(\"Bitwise XOR (a ^ b):\", a ^ b)       \n",
    "print(\"Bitwise NOT (~a):\", ~a)           \n",
    "print(\"Left Shift (a << 1):\", a << 1)   \n",
    "print(\"Right Shift (a >> 1):\", a >> 1)    "
   ]
  },
  {
   "cell_type": "code",
   "execution_count": 4,
   "id": "29d6ac6a-9247-40f4-a0c3-d05def04e901",
   "metadata": {},
   "outputs": [
    {
     "name": "stdout",
     "output_type": "stream",
     "text": [
      "Initial x: 5\n",
      "After x += 3: 8\n",
      "After x -= 2: 6\n",
      "After x *= 4: 24\n",
      "After x /= 3: 8.0\n",
      "After x %= 2: 0.0\n",
      "After x //= 2: 2\n",
      "After x **= 3: 27\n",
      "After x &= 3: 1\n",
      "After x |= 2: 3\n",
      "After x ^= 1: 2\n",
      "After x <<= 1: 4\n",
      "After x >>= 1: 2\n"
     ]
    }
   ],
   "source": [
    "# Assignment Operators\n",
    "x = 5\n",
    "print(\"Initial x:\", x)\n",
    "\n",
    "x += 3\n",
    "print(\"After x += 3:\", x)\n",
    "\n",
    "x -= 2\n",
    "print(\"After x -= 2:\", x)\n",
    "\n",
    "x *= 4\n",
    "print(\"After x *= 4:\", x)\n",
    "\n",
    "x /= 3\n",
    "print(\"After x /= 3:\", x)\n",
    "\n",
    "x %= 2\n",
    "print(\"After x %= 2:\", x)\n",
    "\n",
    "x = 5  # Reset value\n",
    "x //= 2\n",
    "print(\"After x //= 2:\", x)\n",
    "\n",
    "x = 3\n",
    "x **= 3\n",
    "print(\"After x **= 3:\", x)\n",
    "\n",
    "x = 5\n",
    "x &= 3\n",
    "print(\"After x &= 3:\", x)\n",
    "\n",
    "x |= 2\n",
    "print(\"After x |= 2:\", x)\n",
    "\n",
    "x ^= 1\n",
    "print(\"After x ^= 1:\", x)\n",
    "\n",
    "x <<= 1\n",
    "print(\"After x <<= 1:\", x)\n",
    "\n",
    "x >>= 1\n",
    "print(\"After x >>= 1:\", x)"
   ]
  },
  {
   "cell_type": "code",
   "execution_count": 5,
   "id": "39d5e313-97d2-4ebc-b6b8-925c7c636e78",
   "metadata": {},
   "outputs": [
    {
     "name": "stdout",
     "output_type": "stream",
     "text": [
      "Original String:\n",
      "'   Hello, Python World! Welcome to string operations. 123   '\n"
     ]
    }
   ],
   "source": [
    "# Sting Operations\n",
    "text = \"   Hello, Python World! Welcome to string operations. 123   \"\n",
    "print(\"Original String:\")\n",
    "print(repr(text))"
   ]
  },
  {
   "cell_type": "code",
   "execution_count": 6,
   "id": "c9a186fd-596e-4440-a6ca-8e974afc189c",
   "metadata": {},
   "outputs": [
    {
     "name": "stdout",
     "output_type": "stream",
     "text": [
      "Upper:    HELLO, PYTHON WORLD! WELCOME TO STRING OPERATIONS. 123   \n",
      "Lower:    hello, python world! welcome to string operations. 123   \n",
      "Capitalize:    hello, python world! welcome to string operations. 123   \n",
      "Title:    Hello, Python World! Welcome To String Operations. 123   \n",
      "Swapcase:    hELLO, pYTHON wORLD! wELCOME TO STRING OPERATIONS. 123   \n"
     ]
    }
   ],
   "source": [
    "print(\"Upper:\", text.upper())\n",
    "print(\"Lower:\", text.lower())\n",
    "print(\"Capitalize:\", text.capitalize())\n",
    "print(\"Title:\", text.title())\n",
    "print(\"Swapcase:\", text.swapcase())"
   ]
  },
  {
   "cell_type": "code",
   "execution_count": 7,
   "id": "f288f865-c9a6-4768-9064-1d9ae5e0a98d",
   "metadata": {},
   "outputs": [
    {
     "name": "stdout",
     "output_type": "stream",
     "text": [
      "Strip: 'Hello, Python World! Welcome to string operations. 123'\n",
      "Center (width 60): '   Hello, Python World! Welcome to string operations. 123   '\n",
      "Left Justify: '   Hello, Python World! Welcome to string operations. 123   '\n",
      "Right Justify: '   Hello, Python World! Welcome to string operations. 123   '\n",
      "'123'.zfill(5): 00123\n"
     ]
    }
   ],
   "source": [
    "print(\"Strip:\", repr(text.strip()))\n",
    "print(\"Center (width 60):\", repr(text.center(60)))\n",
    "print(\"Left Justify:\", repr(text.ljust(60, '-')))\n",
    "print(\"Right Justify:\", repr(text.rjust(60, '-')))\n",
    "print(\"'123'.zfill(5):\", '123'.zfill(5))"
   ]
  },
  {
   "cell_type": "code",
   "execution_count": 8,
   "id": "f8973ac8-5976-4473-b223-6c555ceb41a6",
   "metadata": {},
   "outputs": [
    {
     "name": "stdout",
     "output_type": "stream",
     "text": [
      "Replace 'Python' with 'Java':    Hello, Java World! Welcome to string operations. 123   \n",
      "Split: ['Hello,', 'Python', 'World!', 'Welcome', 'to', 'string', 'operations.', '123']\n",
      "Join: Python is fun\n"
     ]
    }
   ],
   "source": [
    "print(\"Replace 'Python' with 'Java':\", text.replace(\"Python\", \"Java\"))\n",
    "print(\"Split:\", text.split())\n",
    "words = ['Python', 'is', 'fun']\n",
    "print(\"Join:\", ' '.join(words))"
   ]
  },
  {
   "cell_type": "code",
   "execution_count": 9,
   "id": "8fdf2c7a-c6e2-4e2b-b44a-1c49606766cd",
   "metadata": {},
   "outputs": [
    {
     "name": "stdout",
     "output_type": "stream",
     "text": [
      "Find 'World': 17\n",
      "Index of 'Welcome': 24\n",
      "Count 'o': 7\n"
     ]
    }
   ],
   "source": [
    "print(\"Find 'World':\", text.find(\"World\"))\n",
    "print(\"Index of 'Welcome':\", text.index(\"Welcome\"))\n",
    "print(\"Count 'o':\", text.count(\"o\"))"
   ]
  },
  {
   "cell_type": "code",
   "execution_count": 10,
   "id": "65c766bb-1853-4638-9e0c-dfe4a45b6dd9",
   "metadata": {},
   "outputs": [
    {
     "name": "stdout",
     "output_type": "stream",
     "text": [
      "Startswith 'Hello': True\n",
      "Endswith '123': True\n",
      "Isupper: False\n",
      "Islower: False\n",
      "Istitle: False\n"
     ]
    }
   ],
   "source": [
    "t = text.strip()\n",
    "print(\"Startswith 'Hello':\", t.startswith(\"Hello\"))\n",
    "print(\"Endswith '123':\", t.endswith(\"123\"))\n",
    "print(\"Isupper:\", t.isupper())\n",
    "print(\"Islower:\", t.islower())\n",
    "print(\"Istitle:\", t.istitle())"
   ]
  },
  {
   "cell_type": "code",
   "execution_count": 11,
   "id": "cd6bc37d-067c-4d47-bf84-3fa4e00b5cca",
   "metadata": {},
   "outputs": [
    {
     "name": "stdout",
     "output_type": "stream",
     "text": [
      "isalnum (Hello123): True\n",
      "isalpha (World): True\n",
      "isdigit (456): True\n"
     ]
    }
   ],
   "source": [
    "print(\"isalnum (Hello123):\", \"Hello123\".isalnum())\n",
    "print(\"isalpha (World):\", \"World\".isalpha())\n",
    "print(\"isdigit (456):\", \"456\".isdigit())"
   ]
  },
  {
   "cell_type": "code",
   "execution_count": null,
   "id": "391f5860-cb74-4ea7-9709-41ed97cf433b",
   "metadata": {},
   "outputs": [],
   "source": []
  }
 ],
 "metadata": {
  "kernelspec": {
   "display_name": "Python 3 (ipykernel)",
   "language": "python",
   "name": "python3"
  },
  "language_info": {
   "codemirror_mode": {
    "name": "ipython",
    "version": 3
   },
   "file_extension": ".py",
   "mimetype": "text/x-python",
   "name": "python",
   "nbconvert_exporter": "python",
   "pygments_lexer": "ipython3",
   "version": "3.13.5"
  }
 },
 "nbformat": 4,
 "nbformat_minor": 5
}
