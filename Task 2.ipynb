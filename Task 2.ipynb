{
 "cells": [
  {
   "cell_type": "markdown",
   "id": "bb2b87ed-29a2-48c1-9b60-4b1ecfaa3d94",
   "metadata": {},
   "source": [
    "Name: Shreya Deshmukh\n",
    "Branch:Computer enginerring\n",
    "Task 2"
   ]
  },
  {
   "cell_type": "code",
   "execution_count": 1,
   "id": "68ed7e97-02ca-480e-9fba-365219ec6337",
   "metadata": {},
   "outputs": [
    {
     "name": "stdout",
     "output_type": "stream",
     "text": [
      "Original List: ['apple', 'banana', 'cherry', 'apple', 'banana']\n",
      "After append: ['apple', 'banana', 'cherry', 'apple', 'banana', 'orange']\n",
      "After insert: ['apple', 'grape', 'banana', 'cherry', 'apple', 'banana', 'orange']\n",
      "After remove (first 'banana'): ['apple', 'grape', 'cherry', 'apple', 'banana', 'orange']\n",
      "After pop: ['apple', 'grape', 'cherry', 'apple', 'banana']\n",
      "Count of 'apple': 2\n",
      "Index of 'cherry': 2\n",
      "After reverse: ['banana', 'apple', 'cherry', 'grape', 'apple']\n",
      "After sort: ['apple', 'apple', 'banana', 'cherry', 'grape']\n",
      "After clear: []\n"
     ]
    }
   ],
   "source": [
    "# Muliple Operations on List\n",
    "fruits = [\"apple\", \"banana\", \"cherry\", \"apple\", \"banana\"]\n",
    "\n",
    "print(\"Original List:\", fruits)\n",
    "\n",
    "fruits.append(\"orange\")\n",
    "print(\"After append:\", fruits)\n",
    "\n",
    "fruits.insert(1, \"grape\")\n",
    "print(\"After insert:\", fruits)\n",
    "\n",
    "fruits.remove(\"banana\")\n",
    "print(\"After remove (first 'banana'):\", fruits)\n",
    "\n",
    "fruits.pop()\n",
    "print(\"After pop:\", fruits)\n",
    "\n",
    "print(\"Count of 'apple':\", fruits.count(\"apple\"))\n",
    "\n",
    "print(\"Index of 'cherry':\", fruits.index(\"cherry\"))\n",
    "\n",
    "fruits.reverse()\n",
    "print(\"After reverse:\", fruits)\n",
    "\n",
    "fruits.sort()\n",
    "print(\"After sort:\", fruits)\n",
    "\n",
    "fruits.clear()\n",
    "print(\"After clear:\", fruits)"
   ]
  },
  {
   "cell_type": "code",
   "execution_count": null,
   "id": "e145a2f6-135e-4663-a815-adb618565abf",
   "metadata": {},
   "outputs": [],
   "source": [
    "#Muliple O"
   ]
  }
 ],
 "metadata": {
  "kernelspec": {
   "display_name": "Python 3 (ipykernel)",
   "language": "python",
   "name": "python3"
  },
  "language_info": {
   "codemirror_mode": {
    "name": "ipython",
    "version": 3
   },
   "file_extension": ".py",
   "mimetype": "text/x-python",
   "name": "python",
   "nbconvert_exporter": "python",
   "pygments_lexer": "ipython3",
   "version": "3.13.5"
  }
 },
 "nbformat": 4,
 "nbformat_minor": 5
}
