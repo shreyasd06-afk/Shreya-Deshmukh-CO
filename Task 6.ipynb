{
 "cells": [
  {
   "cell_type": "code",
   "execution_count": 1,
   "id": "6d3c8736-dd6c-4cdd-8d35-f6aa03d70e6d",
   "metadata": {},
   "outputs": [
    {
     "name": "stdout",
     "output_type": "stream",
     "text": [
      "Fetching: http://books.toscrape.com/\n",
      "Fetching: http://books.toscrape.com/catalogue/page-2.html\n",
      "Scraped 40 books from 2 pages.\n",
      "[{'title': 'A Light in the Attic', 'price': 'Â£51.77'}, {'title': 'Tipping the Velvet', 'price': 'Â£53.74'}, {'title': 'Soumission', 'price': 'Â£50.10'}, {'title': 'Sharp Objects', 'price': 'Â£47.82'}, {'title': 'Sapiens: A Brief History of Humankind', 'price': 'Â£54.23'}]\n",
      "Saved books_first_two_pages.json\n"
     ]
    }
   ],
   "source": [
    "# books_scrape.py\n",
    "import requests\n",
    "from bs4 import BeautifulSoup\n",
    "from urllib.parse import urljoin\n",
    "import json\n",
    "import time\n",
    "\n",
    "BASE = \"http://books.toscrape.com/\"\n",
    "\n",
    "session = requests.Session()\n",
    "session.headers.update({\"User-Agent\": \"Mozilla/5.0 (compatible; Bot/1.0)\"})\n",
    "\n",
    "results = []\n",
    "pages_to_scrape = 2\n",
    "scraped_pages = 0\n",
    "url = BASE  # start here\n",
    "\n",
    "while scraped_pages < pages_to_scrape and url:\n",
    "    print(f\"Fetching: {url}\")\n",
    "    try:\n",
    "        resp = session.get(url, timeout=10)\n",
    "        resp.raise_for_status()\n",
    "    except requests.RequestException as e:\n",
    "        print(\"Request failed:\", e)\n",
    "        break\n",
    "\n",
    "    soup = BeautifulSoup(resp.text, \"lxml\")\n",
    "    for book in soup.select(\"article.product_pod\"):\n",
    "        title = book.h3.a.get(\"title\", book.h3.a.text).strip()\n",
    "        price = book.select_one(\"p.price_color\").text.strip()\n",
    "        results.append({\"title\": title, \"price\": price})\n",
    "\n",
    "    scraped_pages += 1\n",
    "    # find next page link\n",
    "    next_link = soup.select_one(\"li.next a\")\n",
    "    url = urljoin(url, next_link[\"href\"]) if next_link else None\n",
    "    time.sleep(1)  # be nice\n",
    "\n",
    "# show and save\n",
    "print(f\"Scraped {len(results)} books from {scraped_pages} pages.\")\n",
    "print(results[:5])\n",
    "\n",
    "with open(\"books_first_two_pages.json\", \"w\", encoding=\"utf-8\") as f:\n",
    "    json.dump(results, f, ensure_ascii=False, indent=2)\n",
    "print(\"Saved books_first_two_pages.json\")"
   ]
  },
  {
   "cell_type": "code",
   "execution_count": 2,
   "id": "bfd2515e-6b61-4ba0-a2ea-94f1fe55c567",
   "metadata": {},
   "outputs": [
    {
     "name": "stdout",
     "output_type": "stream",
     "text": [
      "         City         Description Temperature (°C)\n",
      "0      Mumbai                Mist               28\n",
      "1        Pune   Light rain shower               28\n",
      "2      Nagpur                Haze               28\n",
      "3      Nashik  Patchy rain nearby               29\n",
      "4  Aurangabad                Mist               29\n"
     ]
    }
   ],
   "source": [
    "#Q.2)\n",
    "import requests\n",
    "import pandas as pd\n",
    "\n",
    "# List of cities to check\n",
    "cities = [\"Mumbai\", \"Pune\", \"Nagpur\", \"Nashik\", \"Aurangabad\"]\n",
    "\n",
    "# Empty list to store weather data\n",
    "weather_data = []\n",
    "\n",
    "for city in cities:\n",
    "    # Get data from wttr.in in JSON format\n",
    "    url = f\"https://wttr.in/{city}?format=j1\"\n",
    "    response = requests.get(url)\n",
    "    data = response.json()\n",
    "    \n",
    "    # Extract weather details\n",
    "    description = data[\"current_condition\"][0][\"weatherDesc\"][0][\"value\"]\n",
    "    temperature = data[\"current_condition\"][0][\"temp_C\"]\n",
    "    \n",
    "    weather_data.append({\n",
    "        \"City\": city,\n",
    "        \"Description\": description,\n",
    "        \"Temperature (°C)\": temperature\n",
    "    })\n",
    "\n",
    "# Create DataFrame\n",
    "df = pd.DataFrame(weather_data)\n",
    "\n",
    "# Display table\n",
    "print(df)"
   ]
  },
  {
   "cell_type": "code",
   "execution_count": 4,
   "id": "4567a7d0-70c4-4eb9-9f8f-695f09a20300",
   "metadata": {},
   "outputs": [],
   "source": [
    "# Q.3)\n",
    "import csv\n",
    "import time"
   ]
  },
  {
   "cell_type": "code",
   "execution_count": 5,
   "id": "b882f7fc-10a9-4815-b859-595a2f42108a",
   "metadata": {},
   "outputs": [],
   "source": [
    "BASE_URL = \"https://realpython.github.io/fake-jobs/\"\n",
    "HEADERS = {\n",
    "    \"User-Agent\": \"Mozilla/5.0 (compatible; FakeJobsScraper/1.0; +https://example.org/bot)\"\n",
    "}\n",
    "\n",
    "def fetch_page(url, retries=3, backoff=1.0):\n",
    "    for attempt in range(1, retries + 1):\n",
    "        try:\n",
    "            r = requests.get(url, headers=HEADERS, timeout=10)\n",
    "            r.raise_for_status()\n",
    "            return r.text\n",
    "        except Exception as e:\n",
    "            print(f\"[Attempt {attempt}] Error fetching {url}: {e}\")\n",
    "            if attempt < retries:\n",
    "                time.sleep(backoff * attempt)\n",
    "            else:\n",
    "                raise\n",
    "\n",
    "def parse_jobs_from_html(html):\n",
    "    soup = BeautifulSoup(html, \"html.parser\")\n",
    "    jobs = []\n",
    "\n",
    "    cards = soup.find_all(\"div\", class_=\"card-content\")\n",
    "    if not cards:\n",
    "        cards = soup.find_all(\"article\")\n",
    "    if not cards:\n",
    "        cards = soup.find_all(\"div\", class_=\"card\")\n",
    "\n",
    "    for card in cards:\n",
    "        title = \"\"\n",
    "        company = \"\"\n",
    "        location = \"\"\n",
    "\n",
    "        h2 = card.find(\"h2\")\n",
    "        if h2:\n",
    "            title = h2.get_text(strip=True)\n",
    "\n",
    "        h3 = card.find(\"h3\")\n",
    "        if h3:\n",
    "            company = h3.get_text(strip=True)\n",
    "\n",
    "        loc_p = card.find(\"p\", class_=\"location\")\n",
    "        if loc_p:\n",
    "            location = loc_p.get_text(strip=True)\n",
    "        else:\n",
    "            for p in card.find_all(\"p\"):\n",
    "                txt = p.get_text(strip=True)\n",
    "                if txt and (\",\" in txt or \"Remote\" in txt):\n",
    "                    location = txt\n",
    "                    break\n",
    "\n",
    "        if not company and \" at \" in title:\n",
    "            parts = title.split(\" at \")\n",
    "            if len(parts) >= 2:\n",
    "                title = parts[0].strip()\n",
    "                company = parts[1].strip()\n",
    "\n",
    "        if title:\n",
    "            jobs.append({\n",
    "                \"title\": title,\n",
    "                \"company\": company,\n",
    "                \"location\": location\n",
    "            })\n",
    "\n",
    "    return jobs"
   ]
  },
  {
   "cell_type": "code",
   "execution_count": 6,
   "id": "73b212ac-0300-494b-9c80-4c87158d2247",
   "metadata": {},
   "outputs": [
    {
     "name": "stdout",
     "output_type": "stream",
     "text": [
      "Fetching page 1: https://realpython.github.io/fake-jobs/\n",
      "  -> Found 100 jobs on page 1\n",
      "Fetching page 2: https://realpython.github.io/fake-jobs/?page=2\n",
      "  -> Found 100 jobs on page 2\n",
      "Fetching page 3: https://realpython.github.io/fake-jobs/?page=3\n",
      "  -> Found 100 jobs on page 3\n",
      "Total jobs scraped: 300\n"
     ]
    }
   ],
   "source": [
    "all_jobs = []\n",
    "\n",
    "for page in range(1, 4):\n",
    "    url = BASE_URL if page == 1 else f\"{BASE_URL}?page={page}\"\n",
    "    print(f\"Fetching page {page}: {url}\")\n",
    "    html = fetch_page(url)\n",
    "    jobs = parse_jobs_from_html(html)\n",
    "    print(f\"  -> Found {len(jobs)} jobs on page {page}\")\n",
    "    all_jobs.extend(jobs)\n",
    "    time.sleep(0.5)  # polite pause\n",
    "\n",
    "print(f\"Total jobs scraped: {len(all_jobs)}\")"
   ]
  },
  {
   "cell_type": "code",
   "execution_count": 7,
   "id": "389a14f2-ac8a-4c15-8121-a22c75580aed",
   "metadata": {},
   "outputs": [
    {
     "name": "stdout",
     "output_type": "stream",
     "text": [
      "Saved 300 rows to fake_jobs_page1-3.csv\n"
     ]
    }
   ],
   "source": [
    "output_file = \"fake_jobs_page1-3.csv\"\n",
    "\n",
    "with open(output_file, \"w\", newline=\"\", encoding=\"utf-8\") as f:\n",
    "    writer = csv.DictWriter(f, fieldnames=[\"title\", \"company\", \"location\"])\n",
    "    writer.writeheader()\n",
    "    for job in all_jobs:\n",
    "        writer.writerow(job)\n",
    "\n",
    "print(f\"Saved {len(all_jobs)} rows to {output_file}\")"
   ]
  },
  {
   "cell_type": "code",
   "execution_count": 8,
   "id": "64c91d3e-61c0-4a62-9c7f-e52adbbc3ab2",
   "metadata": {},
   "outputs": [
    {
     "data": {
      "text/html": [
       "<div>\n",
       "<style scoped>\n",
       "    .dataframe tbody tr th:only-of-type {\n",
       "        vertical-align: middle;\n",
       "    }\n",
       "\n",
       "    .dataframe tbody tr th {\n",
       "        vertical-align: top;\n",
       "    }\n",
       "\n",
       "    .dataframe thead th {\n",
       "        text-align: right;\n",
       "    }\n",
       "</style>\n",
       "<table border=\"1\" class=\"dataframe\">\n",
       "  <thead>\n",
       "    <tr style=\"text-align: right;\">\n",
       "      <th></th>\n",
       "      <th>title</th>\n",
       "      <th>company</th>\n",
       "      <th>location</th>\n",
       "    </tr>\n",
       "  </thead>\n",
       "  <tbody>\n",
       "    <tr>\n",
       "      <th>0</th>\n",
       "      <td>Senior Python Developer</td>\n",
       "      <td>Payne, Roberts and Davis</td>\n",
       "      <td>Stewartbury, AA</td>\n",
       "    </tr>\n",
       "    <tr>\n",
       "      <th>1</th>\n",
       "      <td>Energy engineer</td>\n",
       "      <td>Vasquez-Davidson</td>\n",
       "      <td>Christopherville, AA</td>\n",
       "    </tr>\n",
       "    <tr>\n",
       "      <th>2</th>\n",
       "      <td>Legal executive</td>\n",
       "      <td>Jackson, Chambers and Levy</td>\n",
       "      <td>Port Ericaburgh, AA</td>\n",
       "    </tr>\n",
       "    <tr>\n",
       "      <th>3</th>\n",
       "      <td>Fitness centre manager</td>\n",
       "      <td>Savage-Bradley</td>\n",
       "      <td>East Seanview, AP</td>\n",
       "    </tr>\n",
       "    <tr>\n",
       "      <th>4</th>\n",
       "      <td>Product manager</td>\n",
       "      <td>Ramirez Inc</td>\n",
       "      <td>North Jamieview, AP</td>\n",
       "    </tr>\n",
       "  </tbody>\n",
       "</table>\n",
       "</div>"
      ],
      "text/plain": [
       "                     title                     company              location\n",
       "0  Senior Python Developer    Payne, Roberts and Davis       Stewartbury, AA\n",
       "1          Energy engineer            Vasquez-Davidson  Christopherville, AA\n",
       "2          Legal executive  Jackson, Chambers and Levy   Port Ericaburgh, AA\n",
       "3   Fitness centre manager              Savage-Bradley     East Seanview, AP\n",
       "4          Product manager                 Ramirez Inc   North Jamieview, AP"
      ]
     },
     "execution_count": 8,
     "metadata": {},
     "output_type": "execute_result"
    }
   ],
   "source": [
    "import pandas as pd\n",
    "\n",
    "df = pd.read_csv(\"fake_jobs_page1-3.csv\")\n",
    "df.head()"
   ]
  },
  {
   "cell_type": "code",
   "execution_count": null,
   "id": "7c839c22-54bd-4b9e-9ba4-112ef76a94e5",
   "metadata": {},
   "outputs": [],
   "source": []
  }
 ],
 "metadata": {
  "kernelspec": {
   "display_name": "Python 3 (ipykernel)",
   "language": "python",
   "name": "python3"
  },
  "language_info": {
   "codemirror_mode": {
    "name": "ipython",
    "version": 3
   },
   "file_extension": ".py",
   "mimetype": "text/x-python",
   "name": "python",
   "nbconvert_exporter": "python",
   "pygments_lexer": "ipython3",
   "version": "3.13.5"
  }
 },
 "nbformat": 4,
 "nbformat_minor": 5
}
