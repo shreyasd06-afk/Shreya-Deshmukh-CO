{
 "cells": [
  {
   "cell_type": "markdown",
   "id": "f52164bb-9c14-4610-8da4-8876ebb93872",
   "metadata": {},
   "source": [
    "Name: Shreya Deshmukh\n",
    "Branch:Computer enginerring\n",
    "Task 2"
   ]
  },
  {
   "cell_type": "code",
   "execution_count": null,
   "id": "b8dd0319-8379-44a2-ab66-53f029c31990",
   "metadata": {},
   "outputs": [],
   "source": [
    "#import numpy as np\n",
    "\n",
    "# 1. Create arrays\n",
    "a = np.array([10, 20, 30, 40])\n",
    "b = np.array([1, 2, 3, 4])\n",
    "c = np.random.randint(1, 100, size=(3, 3))\n",
    "\n",
    "# 2. Element-wise arithmetic operations\n",
    "add_result = a + b\n",
    "sub_result = a - b\n",
    "mul_result = a * b\n",
    "div_result = a / b\n",
    "\n",
    "# 3. Mathematical functions\n",
    "sqrt_result = np.sqrt(a)\n",
    "log_result = np.log(a)\n",
    "exp_result = np.exp(b)\n",
    "\n",
    "# 4. Aggregate functions\n",
    "sum_result = np.sum(c)\n",
    "mean_result = np.mean(c)\n",
    "median_result = np.median(c)\n",
    "std_result = np.std(c)\n",
    "max_result = np.max(c)\n",
    "min_result = np.min(c)\n",
    "\n",
    "# 5. Reshape and transpose\n",
    "reshaped = c.reshape(1, 9)\n",
    "transposed = c.T\n",
    "\n",
    "# 6. Indexing and slicing\n",
    "first_row = c[0]\n",
    "first_col = c[:, 0]\n",
    "slice_array = c[0:2, 1:3]\n",
    "\n",
    "# 7. Conditional filtering\n",
    "filtered = a[a > 20]\n",
    "\n",
    "# 8. Stack arrays\n",
    "stacked_v = np.vstack((a, b))\n",
    "stacked_h = np.hstack((a, b))\n",
    "\n",
    "# 9. Unique and sort\n",
    "unique_vals = np.unique(c)\n",
    "sorted_array = np.sort(c, axis=None)\n",
    "\n",
    "# 10. Linspace and arange\n",
    "lin = np.linspace(0, 1, 5)\n",
    "arr = np.arange(5, 20, 3)\n",
    "\n",
    "# Print to verify\n",
    "print(\"Addition:\", add_result)\n",
    "print(\"Square Root:\", sqrt_result)\n",
    "print(\"Reshaped:\\n\", reshaped)\n",
    "print(\"Filtered (a > 20):\", filtered)\n",
    "print(\"Unique in c:\", unique_vals)\n",
    "print(\"Linspace:\", lin)"
   ]
  }
 ],
 "metadata": {
  "kernelspec": {
   "display_name": "Python 3 (ipykernel)",
   "language": "python",
   "name": "python3"
  },
  "language_info": {
   "codemirror_mode": {
    "name": "ipython",
    "version": 3
   },
   "file_extension": ".py",
   "mimetype": "text/x-python",
   "name": "python",
   "nbconvert_exporter": "python",
   "pygments_lexer": "ipython3",
   "version": "3.13.5"
  }
 },
 "nbformat": 4,
 "nbformat_minor": 5
}
